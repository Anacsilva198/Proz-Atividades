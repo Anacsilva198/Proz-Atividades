{
  "nbformat": 4,
  "nbformat_minor": 0,
  "metadata": {
    "colab": {
      "provenance": [],
      "authorship_tag": "ABX9TyMD7XbvKjkFcnyMBkXuZxFz",
      "include_colab_link": true
    },
    "kernelspec": {
      "name": "python3",
      "display_name": "Python 3"
    },
    "language_info": {
      "name": "python"
    }
  },
  "cells": [
    {
      "cell_type": "markdown",
      "metadata": {
        "id": "view-in-github",
        "colab_type": "text"
      },
      "source": [
        "<a href=\"https://colab.research.google.com/github/Anacsilva198/Proz-Atividades/blob/main/Atividade_18_07.ipynb\" target=\"_parent\"><img src=\"https://colab.research.google.com/assets/colab-badge.svg\" alt=\"Open In Colab\"/></a>"
      ]
    },
    {
      "cell_type": "code",
      "execution_count": null,
      "metadata": {
        "colab": {
          "base_uri": "https://localhost:8080/"
        },
        "id": "bljTQTmMPnKX",
        "outputId": "b626c5a5-8499-468d-e111-c5c65c1a492b"
      },
      "outputs": [
        {
          "output_type": "stream",
          "name": "stdout",
          "text": [
            "Achamos o nome: Maria\n"
          ]
        }
      ],
      "source": [
        "def achar_elemento(elem, arr):\n",
        "  achou = False\n",
        "\n",
        "  for i in range (len(arr)):\n",
        "    if arr [i] == elem:\n",
        "      achou = True\n",
        "  if(achou == False):\n",
        "    print(\"Não achamos o nome: \" + elem)\n",
        "  else:\n",
        "    print(\"Achamos o nome: \" + elem)\n",
        "nomes = [\"Rafael\", \"João\", \"Maria\", \"Paula\"]\n",
        "achar_elemento (\"Maria\", nomes)"
      ]
    },
    {
      "cell_type": "markdown",
      "source": [
        "# Nome:\n",
        "\n",
        "Ana Clara Silva"
      ],
      "metadata": {
        "id": "cNpsKpd4WXyV"
      }
    },
    {
      "cell_type": "markdown",
      "source": [
        "Atividade Proposta:\n",
        "\n",
        "*   incluir o índice do elemento na mensagem\n",
        "\n",
        "*   o sistema pergunte ao usuário o elemento que deseja procurar e continue perguntando até encontrar um elemento presente no array **texto em negrito**\n",
        "\n"
      ],
      "metadata": {
        "id": "I67z-vb7XN_H"
      }
    },
    {
      "cell_type": "code",
      "source": [
        "def achar_elemento(elem, arr):\n",
        "  achou = False\n",
        "\n",
        "  for i in range (len(arr)):\n",
        "    if arr [i] == elem:\n",
        "      achou = True\n",
        "  if(achou == False):\n",
        "    print(\"Não achamos o nome: \" + elem)\n",
        "  else:\n",
        "    print(\"Achamos o nome: \" + elem)\n",
        "nomes = [\"Rafael\", \"João\", \"Maria\", \"Paula\"]\n",
        "achar_elemento (\"Maria\", nomes)"
      ],
      "metadata": {
        "colab": {
          "base_uri": "https://localhost:8080/"
        },
        "id": "GF77q73YXpxU",
        "outputId": "76ede8fc-64b7-4484-dcbf-d994aeb34853"
      },
      "execution_count": null,
      "outputs": [
        {
          "output_type": "stream",
          "name": "stdout",
          "text": [
            "Achamos o nome: Maria\n"
          ]
        }
      ]
    },
    {
      "cell_type": "code",
      "source": [
        "def achar_elemento (arr):\n",
        "  achou = False\n",
        "  frase = \"\"\n",
        "  while(achou == False):\n",
        "    elem = input(str(\"Escolha um dos nomes: \\n João\\n Matheus\\n Ricardo\\n Nathan\\n\" ))\n",
        "\n",
        "    for i in range (len(arr)):\n",
        "      if arr [i] == elem:\n",
        "        achou = True\n",
        "        indice = i\n",
        "    if(achou == False):\n",
        "      frase = (\"Nao encontramos o nome: \" + elem)\n",
        "      print(frase)\n",
        "    else:\n",
        "      frase = (\"Encontramos o nome: \" + elem + \" e o indice é:\" + str(indice))\n",
        "      print(frase)\n",
        "\n",
        "nomes = [ \"João\", \"Matheus\", \"Ricardo\", \"Nathan\"]\n",
        "achar_elemento(nomes)"
      ],
      "metadata": {
        "colab": {
          "base_uri": "https://localhost:8080/"
        },
        "id": "RW-7P6F-bACS",
        "outputId": "b8e08831-4729-4781-e51c-2c650a94e12e"
      },
      "execution_count": 1,
      "outputs": [
        {
          "output_type": "stream",
          "name": "stdout",
          "text": [
            "Escolha um dos nomes: \n",
            " João\n",
            " Matheus\n",
            " Ricardo\n",
            " Nathan\n",
            "Ricardo\n",
            "Encontramos o nome: Ricardo e o indice é:2\n"
          ]
        }
      ]
    }
  ]
}