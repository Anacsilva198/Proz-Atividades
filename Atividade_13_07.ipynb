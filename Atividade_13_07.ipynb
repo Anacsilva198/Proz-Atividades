{
  "nbformat": 4,
  "nbformat_minor": 0,
  "metadata": {
    "colab": {
      "provenance": [],
      "authorship_tag": "ABX9TyNIoAU9zCkd1tMm2q+KTIR/",
      "include_colab_link": true
    },
    "kernelspec": {
      "name": "python3",
      "display_name": "Python 3"
    },
    "language_info": {
      "name": "python"
    }
  },
  "cells": [
    {
      "cell_type": "markdown",
      "metadata": {
        "id": "view-in-github",
        "colab_type": "text"
      },
      "source": [
        "<a href=\"https://colab.research.google.com/github/Anacsilva198/Proz-Atividades/blob/main/Atividade_13_07.ipynb\" target=\"_parent\"><img src=\"https://colab.research.google.com/assets/colab-badge.svg\" alt=\"Open In Colab\"/></a>"
      ]
    },
    {
      "cell_type": "markdown",
      "source": [
        "# Resultado do passo a passo:"
      ],
      "metadata": {
        "id": "vlEqPdW6c3w-"
      }
    },
    {
      "cell_type": "code",
      "execution_count": null,
      "metadata": {
        "id": "IdTomO4DccXu"
      },
      "outputs": [],
      "source": [
        "def mostrar_numero():\n",
        "  print(\"Escreva um número menor que 100\")\n",
        "  numero_valido = False\n",
        "\n",
        "  while(numero_valido == False):\n",
        "    try:\n",
        "      num = int(input())\n",
        "      if (num > 100):\n",
        "        print(\"O número precisa ser menor ou igual a 100\")\n",
        "      else:\n",
        "        print(\"Boa, você escolheu o número: \" + str(num))\n",
        "        numero_valido = True\n",
        "    except:\n",
        "      print(\"Precisa digitar um número inteiro\")\n",
        "\n",
        "mostrar_numero()"
      ]
    },
    {
      "cell_type": "markdown",
      "source": [
        "1- Ampliar o codigo para: numero menor que 0."
      ],
      "metadata": {
        "id": "ivfYkbbmjqbw"
      }
    },
    {
      "cell_type": "code",
      "source": [
        "def mostrar_numero():\n",
        "  print(\"Escreva um número menor que 0\")\n",
        "  numero_valido = False\n",
        "\n",
        "  while(numero_valido == False):\n",
        "    try:\n",
        "      num = int(input())\n",
        "      if (num > 0):\n",
        "        print(\"O número precisa ser menor ou igual a 0\")\n",
        "      else:\n",
        "        print(\"Boa, você escolheu o número: \" + str(num))\n",
        "        numero_valido = True\n",
        "    except:\n",
        "      print(\"Precisa digitar um número inteiro\")\n",
        "\n",
        "mostrar_numero()"
      ],
      "metadata": {
        "colab": {
          "base_uri": "https://localhost:8080/"
        },
        "id": "vWAHwavbhPrP",
        "outputId": "38a4f946-ec83-40ed-b5b1-54ebea007e27"
      },
      "execution_count": null,
      "outputs": [
        {
          "output_type": "stream",
          "name": "stdout",
          "text": [
            "Escreva um número menor que 0\n",
            "1\n",
            "O número precisa ser menor ou igual a 0\n",
            "-1\n",
            "Boa, você escolheu o número: -1\n"
          ]
        }
      ]
    },
    {
      "cell_type": "markdown",
      "source": [
        "2- Criar uma segunda função que pede para o usuário inserir um número par;"
      ],
      "metadata": {
        "id": "mT0xgrNZjso_"
      }
    },
    {
      "cell_type": "code",
      "source": [
        "def mostrar_numero():\n",
        "  print(\"Escreva um número par\")\n",
        "  numero_valido = False\n",
        "\n",
        "  while (numero_valido == False):\n",
        "    try:\n",
        "      num = int(input())\n",
        "      if (num % 2 == 0):\n",
        "        print(\"Boa, você escolheu o número: \" + str(num))\n",
        "        break\n",
        "      else:\n",
        "        numero_valido == True\n",
        "        print(\"O número precisa ser um número par\")\n",
        "    except:\n",
        "      print(\"Precisa digitar um número inteiro\")\n",
        "\n",
        "mostrar_numero()"
      ],
      "metadata": {
        "id": "aKNAdlKcjwRH",
        "colab": {
          "base_uri": "https://localhost:8080/"
        },
        "outputId": "f545088d-843c-4a08-ba1e-20efbca50f3f"
      },
      "execution_count": 3,
      "outputs": [
        {
          "output_type": "stream",
          "name": "stdout",
          "text": [
            "Escreva um número par\n",
            "1\n",
            "O número precisa ser um número par\n",
            "sa\n",
            "Precisa digitar um número inteiro\n",
            "2\n",
            "Boa, você escolheu o número: 2\n"
          ]
        }
      ]
    },
    {
      "cell_type": "markdown",
      "source": [
        "3 - Expadir a segunda função para um número divisivel por 2 e por 3;"
      ],
      "metadata": {
        "id": "gCljXpaqkc7w"
      }
    },
    {
      "cell_type": "code",
      "source": [
        "def mostrar_numero():\n",
        "  print(\"Escreva um número divisivel por 2 ou 3\")\n",
        "  numero_valido = False\n",
        "\n",
        "  while (numero_valido == False):\n",
        "    try:\n",
        "      num = int(input())\n",
        "      if(num % 2 != 0 or num % 3 != 0):\n",
        "        print(\"Boa, você escolheu o número divisivel por 2 ou 3: \" + str(num))\n",
        "        break\n",
        "      else:\n",
        "        numero_valido == True\n",
        "        print(\"O número precisa ser um número divisilvel por 2 ou 3\")\n",
        "    except:\n",
        "      print(\"Precisa digitar um número inteiro\")\n",
        "\n",
        "mostrar_numero()"
      ],
      "metadata": {
        "id": "mepmL_O8khTL",
        "colab": {
          "base_uri": "https://localhost:8080/"
        },
        "outputId": "d550e54f-70cc-4a3d-d092-3b7afa917724"
      },
      "execution_count": 6,
      "outputs": [
        {
          "output_type": "stream",
          "name": "stdout",
          "text": [
            "Escreva um número divisivel por 2 ou 3\n",
            "0\n",
            "O número precisa ser um número divisilvel por 2 ou 3\n",
            "sa\n",
            "Precisa digitar um número inteiro\n",
            "90\n",
            "O número precisa ser um número divisilvel por 2 ou 3\n",
            "54\n",
            "O número precisa ser um número divisilvel por 2 ou 3\n",
            "32\n",
            "Boa, você escolheu o número divisivel por 2 ou 3: 32\n"
          ]
        }
      ]
    },
    {
      "cell_type": "markdown",
      "source": [
        "Yasmin Santos\n",
        "\n",
        "Jayane Darla\n",
        "\n",
        "Any Sam\n",
        "\n",
        "Ana Clara Silva"
      ],
      "metadata": {
        "id": "cH1tk6TiuRJR"
      }
    },
    {
      "cell_type": "markdown",
      "source": [],
      "metadata": {
        "id": "i3wfexOZug-2"
      }
    }
  ]
}