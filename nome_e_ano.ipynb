{
  "nbformat": 4,
  "nbformat_minor": 0,
  "metadata": {
    "colab": {
      "provenance": [],
      "authorship_tag": "ABX9TyPoF+0tyAFmulU71BmRofnj",
      "include_colab_link": true
    },
    "kernelspec": {
      "name": "python3",
      "display_name": "Python 3"
    },
    "language_info": {
      "name": "python"
    }
  },
  "cells": [
    {
      "cell_type": "markdown",
      "metadata": {
        "id": "view-in-github",
        "colab_type": "text"
      },
      "source": [
        "<a href=\"https://colab.research.google.com/github/Anacsilva198/Proz-Atividades/blob/main/nome_e_ano.ipynb\" target=\"_parent\"><img src=\"https://colab.research.google.com/assets/colab-badge.svg\" alt=\"Open In Colab\"/></a>"
      ]
    },
    {
      "cell_type": "code",
      "source": [
        "##Desenvolva um programa que recebe do usuário nome completo e ano de nascimento que seja entre 1922 e 2021.\n",
        "##A partir dessas informações, o sistema mostrará o nome do usuário e a idade que completou, ou completará, no ano atual (2022).\n",
        "\n",
        "##Caso o usuário não digite um número ou apareça um inválido no campo do ano, o sistema informará o erro e continuará perguntando até que um valor correto seja preenchido."
      ],
      "metadata": {
        "id": "VJBfCmXhucS1"
      },
      "execution_count": null,
      "outputs": []
    },
    {
      "cell_type": "code",
      "execution_count": null,
      "metadata": {
        "colab": {
          "base_uri": "https://localhost:8080/"
        },
        "id": "gud5pAdznrvc",
        "outputId": "c713dcec-184c-43f3-92d5-d469b88cef15"
      },
      "outputs": [
        {
          "output_type": "stream",
          "name": "stdout",
          "text": [
            "Escreva seu ano de nascimento:\n",
            "1921\n",
            "Escreva seu nome completo:\n",
            "ana\n",
            "Ano de nascimento inválido. Tente novamente.\n",
            "Escreva seu ano de nascimento:\n",
            "sa\n",
            "Erro, digite um número válido\n",
            "Escreva seu ano de nascimento:\n",
            "1998\n",
            "Escreva seu nome completo:\n",
            "2\n",
            " Nome: 2\n",
            " Idade em 2022: 24\n",
            "\n"
          ]
        }
      ],
      "source": [
        "ano_atual = 2022\n",
        "res = False\n",
        "\n",
        "while (res == False):\n",
        "  try:\n",
        "    ano_de_nascimento = int(input('Escreva seu ano de nascimento:\\n'))\n",
        "    nome_completo = str(input('Escreva seu nome completo:\\n'))\n",
        "\n",
        "    if (ano_de_nascimento < 1922 or ano_de_nascimento > 2022):\n",
        "      print('Ano de nascimento inválido. Tente novamente.')\n",
        "    else:\n",
        "      idade = ano_atual - ano_de_nascimento\n",
        "      print (f' Nome: {nome_completo}\\n Idade em 2022: {idade}\\n')\n",
        "      res == True\n",
        "  except:\n",
        "     print(\"Erro, digite um número válido\")\n"
      ]
    }
  ]
}