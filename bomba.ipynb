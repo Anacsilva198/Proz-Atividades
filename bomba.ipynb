{
  "nbformat": 4,
  "nbformat_minor": 0,
  "metadata": {
    "colab": {
      "provenance": [],
      "authorship_tag": "ABX9TyOuyVaTU0mouFPVN+Xet5CV",
      "include_colab_link": true
    },
    "kernelspec": {
      "name": "python3",
      "display_name": "Python 3"
    },
    "language_info": {
      "name": "python"
    }
  },
  "cells": [
    {
      "cell_type": "markdown",
      "metadata": {
        "id": "view-in-github",
        "colab_type": "text"
      },
      "source": [
        "<a href=\"https://colab.research.google.com/github/Anacsilva198/Proz-Atividades/blob/main/bomba.ipynb\" target=\"_parent\"><img src=\"https://colab.research.google.com/assets/colab-badge.svg\" alt=\"Open In Colab\"/></a>"
      ]
    },
    {
      "cell_type": "code",
      "execution_count": 14,
      "metadata": {
        "colab": {
          "base_uri": "https://localhost:8080/"
        },
        "id": "X33jsp7Yfj-o",
        "outputId": "55cb97aa-df60-4d58-fa04-105237c65a95"
      },
      "outputs": [
        {
          "output_type": "stream",
          "name": "stdout",
          "text": [
            "Iniciando contagem regressiva\n",
            "10\n",
            "9\n",
            "8\n",
            "7\n",
            "6\n",
            "5\n",
            "4\n",
            "3\n",
            "2\n",
            "1\n",
            "BUUM\n"
          ]
        }
      ],
      "source": [
        "import time\n",
        "print(\"Iniciando contagem regressiva\")\n",
        "for i in range(10,0,-1):\n",
        "  print(i)\n",
        "  time.sleep(1)\n",
        "print(\"BUUM\")"
      ]
    }
  ]
}