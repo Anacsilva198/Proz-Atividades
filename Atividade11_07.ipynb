{
  "nbformat": 4,
  "nbformat_minor": 0,
  "metadata": {
    "colab": {
      "provenance": [],
      "authorship_tag": "ABX9TyP4hC5XEkuHRCS7MaVW+lR6",
      "include_colab_link": true
    },
    "kernelspec": {
      "name": "python3",
      "display_name": "Python 3"
    },
    "language_info": {
      "name": "python"
    }
  },
  "cells": [
    {
      "cell_type": "markdown",
      "metadata": {
        "id": "view-in-github",
        "colab_type": "text"
      },
      "source": [
        "<a href=\"https://colab.research.google.com/github/Anacsilva198/Proz-Atividades/blob/main/Atividade11_07.ipynb\" target=\"_parent\"><img src=\"https://colab.research.google.com/assets/colab-badge.svg\" alt=\"Open In Colab\"/></a>"
      ]
    },
    {
      "cell_type": "markdown",
      "source": [
        "# **1.Regar todas as plantas**"
      ],
      "metadata": {
        "id": "C8QE03ZUJzsj"
      }
    },
    {
      "cell_type": "markdown",
      "source": [
        "Andrelino Lima\n",
        "\n",
        "José Jonatas\n",
        "\n",
        "Ana Clara\n"
      ],
      "metadata": {
        "id": "S0bzvDqwPICs"
      }
    },
    {
      "cell_type": "code",
      "source": [
        "for i in range(6):\n",
        "  planta_atual = str(i)\n",
        "  print(\"Regar a planta\" + planta_atual)"
      ],
      "metadata": {
        "id": "UYGEmf1PJ_hB"
      },
      "execution_count": null,
      "outputs": []
    },
    {
      "cell_type": "code",
      "source": [
        "i = 0\n",
        "while(i < 6):\n",
        "  planta_atual = str(i)\n",
        "  print(\"Regar a planta\" + planta_atual)\n",
        "  i += 1"
      ],
      "metadata": {
        "id": "2ebb_k1cLYlo"
      },
      "execution_count": null,
      "outputs": []
    },
    {
      "cell_type": "markdown",
      "source": [
        "# **2. Regar só os pares**"
      ],
      "metadata": {
        "id": "8ARsWDDwRl_3"
      }
    },
    {
      "cell_type": "code",
      "source": [
        "for i in range(6):\n",
        "  if(i % 2 !=0):\n",
        "    continue\n",
        "  print(\"Regar as plantas \" + str(i))"
      ],
      "metadata": {
        "colab": {
          "base_uri": "https://localhost:8080/"
        },
        "id": "Xtvsk2g7Rzdr",
        "outputId": "80300da5-856b-4e0a-8513-6e3f6f9094ad"
      },
      "execution_count": null,
      "outputs": [
        {
          "output_type": "stream",
          "name": "stdout",
          "text": [
            "Regar as plantas 0\n",
            "Regar as plantas 2\n",
            "Regar as plantas 4\n"
          ]
        }
      ]
    },
    {
      "cell_type": "markdown",
      "source": [
        "Andrelino Lima\n",
        "\n",
        "José Jonatas\n",
        "\n",
        "Ana Clara"
      ],
      "metadata": {
        "id": "XW0hyxyrWtkz"
      }
    },
    {
      "cell_type": "code",
      "source": [
        "i = 0\n",
        "while (i < 6):\n",
        "  print(\"Regar as plantas \" + str(i))\n",
        "  i = i + 2"
      ],
      "metadata": {
        "colab": {
          "base_uri": "https://localhost:8080/"
        },
        "id": "QQs86R_2YRng",
        "outputId": "ddbf2d2a-13fd-47be-d422-8b9110c11d45"
      },
      "execution_count": 91,
      "outputs": [
        {
          "output_type": "stream",
          "name": "stdout",
          "text": [
            "Regar as plantas 0\n",
            "Regar as plantas 2\n",
            "Regar as plantas 4\n"
          ]
        }
      ]
    },
    {
      "cell_type": "markdown",
      "source": [
        "# **Funções**\n",
        "Tabuada de multiplicação"
      ],
      "metadata": {
        "id": "CZVpoxJvdFiK"
      }
    },
    {
      "cell_type": "code",
      "source": [
        "def escrever_multiplicacao(num1, num2):\n",
        "  resultado = str(num1 * num2)\n",
        "  frase = str(num1) + \" x \" + str(num2) + \" = \" + resultado\n",
        "  return frase\n",
        "\n",
        "print(escrever_multiplicacao(2,10))"
      ],
      "metadata": {
        "id": "MtK_VcwAdNLO"
      },
      "execution_count": null,
      "outputs": []
    },
    {
      "cell_type": "code",
      "source": [
        "for i in range(1,13):\n",
        "  frase_atual = escrever_multiplicacao(9,i)\n",
        "  print(frase_atual)"
      ],
      "metadata": {
        "id": "3_dP7Ep7evGI"
      },
      "execution_count": null,
      "outputs": []
    },
    {
      "cell_type": "markdown",
      "source": [
        "# **Atividade tabuada de divisão**"
      ],
      "metadata": {
        "id": "bMT3yh1dfQsm"
      }
    },
    {
      "cell_type": "code",
      "source": [
        "def escrever_divisao(num1, num2):\n",
        "  resultado = str(num1 / num2)\n",
        "  frase = str(num1) + \"÷\" + str(num2) + \"=\" + resultado\n",
        "  return frase\n",
        "print(escrever_divisao(5,10))"
      ],
      "metadata": {
        "id": "mKmOhy1DfVA2"
      },
      "execution_count": null,
      "outputs": []
    },
    {
      "cell_type": "code",
      "source": [
        "for i in range(1,11):\n",
        "  frase_atual = escrever_divisao(100,i)\n",
        "  print(frase_atual)"
      ],
      "metadata": {
        "id": "FiRnHRcngy9q"
      },
      "execution_count": null,
      "outputs": []
    },
    {
      "cell_type": "markdown",
      "source": [
        "# **Atividade tabuada de subtração**\n",
        "\n",
        "---\n",
        "\n"
      ],
      "metadata": {
        "id": "GAVb1VOfhbL1"
      }
    },
    {
      "cell_type": "code",
      "source": [
        "def escrever_subtracao(num1, num2):\n",
        "  resultado = str(num1 - num2)\n",
        "  frase = str(num1) + \"-\" + str(num2) + \"=\" + resultado\n",
        "  return frase\n",
        "print(escrever_subtracao(5,10))"
      ],
      "metadata": {
        "id": "M6VZ3afZhhjs"
      },
      "execution_count": null,
      "outputs": []
    },
    {
      "cell_type": "code",
      "source": [
        "for i in range(1,11):\n",
        "  frase_atual = escrever_subtracao(50,i)\n",
        "  print(frase_atual)"
      ],
      "metadata": {
        "id": "cf_TVrkmh7C5"
      },
      "execution_count": null,
      "outputs": []
    },
    {
      "cell_type": "markdown",
      "source": [
        "# **Atividade tabuada de adição**"
      ],
      "metadata": {
        "id": "nNndEcyJiI0_"
      }
    },
    {
      "cell_type": "code",
      "source": [
        "def escrever_adicao(num1, num2):\n",
        "  resultado = str(num1 + num2)\n",
        "  frase = str(num1) + \"+\" + str(num2) + \"=\" + resultado\n",
        "  return frase\n",
        "print(escrever_adicao(5,10))"
      ],
      "metadata": {
        "id": "lV45A1qeiOrt"
      },
      "execution_count": null,
      "outputs": []
    },
    {
      "cell_type": "code",
      "source": [
        "for i in range(1,11):\n",
        "  frase_atual = escrever_adicao(2,i)\n",
        "  print(frase_atual)"
      ],
      "metadata": {
        "id": "KEJOX4iLikl3"
      },
      "execution_count": null,
      "outputs": []
    }
  ]
}