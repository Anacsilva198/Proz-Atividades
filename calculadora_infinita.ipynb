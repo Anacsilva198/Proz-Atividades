{
  "nbformat": 4,
  "nbformat_minor": 0,
  "metadata": {
    "colab": {
      "provenance": [],
      "authorship_tag": "ABX9TyOH8KtspsKPlJUW9BtW79ls",
      "include_colab_link": true
    },
    "kernelspec": {
      "name": "python3",
      "display_name": "Python 3"
    },
    "language_info": {
      "name": "python"
    }
  },
  "cells": [
    {
      "cell_type": "markdown",
      "metadata": {
        "id": "view-in-github",
        "colab_type": "text"
      },
      "source": [
        "<a href=\"https://colab.research.google.com/github/Anacsilva198/Proz-Atividades/blob/main/calculadora_infinita.ipynb\" target=\"_parent\"><img src=\"https://colab.research.google.com/assets/colab-badge.svg\" alt=\"Open In Colab\"/></a>"
      ]
    },
    {
      "cell_type": "code",
      "source": [
        "##Faça uma função calculadora que os números e as operações serão feitas pelo usuário. O código deve ficar rodando infinitamente até que o usuário escolha a opção de sair. No início, o programa mostrará a seguinte lista de operações:\n",
        "\n",
        "##1: Soma\n",
        "##2: Subtração\n",
        "##3: Multiplicação\n",
        "##4: Divisão\n",
        "##0: Sair\n",
        "\n",
        "##Digite o número para a operação correspondente e caso o usuário introduza qualquer outro, o sistema deve mostrar a mensagem “Essa opção não existe” e voltar ao menu de opções.\n",
        "\n",
        "##Após a seleção, o sistema deve pedir para o usuário inserir o primeiro e segundo valor, um de cada. Depois precisa executar a operação e mostrar o resultado na tela. Quando o usuário escolher a opção “Sair”, o sistema irá parar.\n",
        "\n",
        "##É necessário que o sistema mostre as opções sempre que finalizar uma operação e mostrar o resultado."
      ],
      "metadata": {
        "id": "aQ3njhgxiFDO"
      },
      "execution_count": null,
      "outputs": []
    },
    {
      "cell_type": "code",
      "execution_count": 38,
      "metadata": {
        "colab": {
          "base_uri": "https://localhost:8080/"
        },
        "id": "u40vgfe-X8Ye",
        "outputId": "b2a04404-c2c6-4b74-e17e-6ec955eff23d"
      },
      "outputs": [
        {
          "output_type": "stream",
          "name": "stdout",
          "text": [
            " Operações:\n",
            " 1 = Adição:\n",
            " 2 = Subtração\n",
            " 3 = Multiplicação\n",
            " 4 = Divisão\n",
            " 0 = Sair\n",
            "\n",
            "Digite o número da operação desejada:\n",
            "2\n",
            "Digite o primeiro valor:\n",
            "56\n",
            "Digite o segundo valor:\n",
            "4\n",
            "Resultado: 56 - 4 = 52\n",
            "\n",
            " Operações:\n",
            " 1 = Adição:\n",
            " 2 = Subtração\n",
            " 3 = Multiplicação\n",
            " 4 = Divisão\n",
            " 0 = Sair\n",
            "\n",
            "Digite o número da operação desejada:\n",
            "6\n",
            "Ocorreu um erro de operação.Tente novamente.\n",
            "\n",
            " Operações:\n",
            " 1 = Adição:\n",
            " 2 = Subtração\n",
            " 3 = Multiplicação\n",
            " 4 = Divisão\n",
            " 0 = Sair\n",
            "\n",
            "Digite o número da operação desejada:\n",
            "0\n",
            "Programa Encerrado.\n"
          ]
        }
      ],
      "source": [
        "while True:\n",
        "  print(' Operações:\\n 1 = Adição:\\n 2 = Subtração\\n 3 = Multiplicação\\n 4 = Divisão\\n 0 = Sair\\n')\n",
        "  operacao = input('Digite o número da operação desejada:\\n')\n",
        "\n",
        "  if operacao == '0':\n",
        "    print('Programa Encerrado.')\n",
        "    break\n",
        "\n",
        "  if operacao not in ['1', '2', '3', '4']:\n",
        "    print('Ocorreu um erro de operação.Tente novamente.\\n')\n",
        "    continue\n",
        "\n",
        "  n1 = int(input('Digite o primeiro valor:\\n'))\n",
        "  n2 = int(input('Digite o segundo valor:\\n'))\n",
        "\n",
        "  if operacao == '1':\n",
        "    adicao = n1 + n2\n",
        "    print(f'Resultado: {n1} + {n2} = {adicao}\\n')\n",
        "\n",
        "  elif operacao == '2':\n",
        "    subt = n1 - n2\n",
        "    print(f'Resultado: {n1} - {n2} = {subt}\\n')\n",
        "\n",
        "  elif operacao == '3':\n",
        "    mult = n1 * n2\n",
        "    print(f'Resultado: {n1} x {n2} = {mult}\\n')\n",
        "\n",
        "  elif operacao == '4':\n",
        "    div = n1 / n2\n",
        "    print(f'Resultado: {n1} ÷ {n2} = {div}\\n')\n",
        "\n",
        "  else:\n",
        "    print('Operação Inválida. Tente Novamente.\\n')\n"
      ]
    }
  ]
}