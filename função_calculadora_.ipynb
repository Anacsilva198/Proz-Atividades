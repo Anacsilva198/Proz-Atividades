{
  "nbformat": 4,
  "nbformat_minor": 0,
  "metadata": {
    "colab": {
      "provenance": [],
      "authorship_tag": "ABX9TyNGTRibCK6uUN9nQRNpPO8g",
      "include_colab_link": true
    },
    "kernelspec": {
      "name": "python3",
      "display_name": "Python 3"
    },
    "language_info": {
      "name": "python"
    }
  },
  "cells": [
    {
      "cell_type": "markdown",
      "metadata": {
        "id": "view-in-github",
        "colab_type": "text"
      },
      "source": [
        "<a href=\"https://colab.research.google.com/github/Anacsilva198/Proz-Atividades/blob/main/fun%C3%A7%C3%A3o_calculadora_.ipynb\" target=\"_parent\"><img src=\"https://colab.research.google.com/assets/colab-badge.svg\" alt=\"Open In Colab\"/></a>"
      ]
    },
    {
      "cell_type": "code",
      "source": [
        "# Faça uma função calculadora de dois números com três parâmetros: os dois primeiros serão os números da operação e o terceiro será a entrada que definirá a operação a ser executada. Considera a seguinte definição:\n",
        "\n",
        "# 1 - Soma\n",
        "# 2 - Subtração\n",
        "# 3 - Multiplicação\n",
        "# 4 - Divisão\n",
        "# Caso seja inserido um número de operação que não exista, o resultado deverá ser 0."
      ],
      "metadata": {
        "id": "3L7pgvKZljUB"
      },
      "execution_count": 6,
      "outputs": []
    },
    {
      "cell_type": "code",
      "source": [
        "n1 = int(input('Digite o primeiro valor:\\n'))\n",
        "operacao = input('Digite o número de acordo com a operação desejada;\\n 1 = Adição\\n 2 = Subtração\\n 3 = Multiplicação\\n 4 = Divisão\\n')\n",
        "n2 = int(input('Digite o segundo valor:\\n'))\n",
        "\n",
        "if operacao == '1':\n",
        "  adicao = n1 + n2\n",
        "  print(f'{n1} + {n2} = {adicao}')\n",
        "\n",
        "elif operacao == '2':\n",
        "  subt = n1 - n2\n",
        "  print(f'{n1} - {n2} = {subt}')\n",
        "\n",
        "elif operacao == '3':\n",
        "  mult = n1 * n2\n",
        "  print(f'{n1} x {n2} = {mult}')\n",
        "\n",
        "elif operacao == '4':\n",
        "  div = n1 / n2\n",
        "  print(f'{n1} ÷ {n2} = {div}')\n",
        "\n",
        "else:\n",
        "  print('0')\n"
      ],
      "metadata": {
        "colab": {
          "base_uri": "https://localhost:8080/"
        },
        "id": "nAG73WPKlkwW",
        "outputId": "1c3b85e4-32ce-4213-9fc2-c029565a9be8"
      },
      "execution_count": 69,
      "outputs": [
        {
          "output_type": "stream",
          "name": "stdout",
          "text": [
            "Digite o primeiro valor:\n",
            "10\n",
            "Digite o número de acordo com a operação desejada;\n",
            " 1 = Adição\n",
            " 2 = Subtração\n",
            " 3 = Multiplicação\n",
            " 4 = Divisão\n",
            "4\n",
            "Digite o segundo valor:\n",
            "2\n",
            "10 ÷ 2 = 5.0\n"
          ]
        }
      ]
    }
  ]
}